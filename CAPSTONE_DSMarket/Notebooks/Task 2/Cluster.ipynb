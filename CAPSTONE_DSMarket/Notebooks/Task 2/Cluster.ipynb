{
 "cells": [
  {
   "cell_type": "markdown",
   "metadata": {
    "id": "n0RVnIpNQRTi"
   },
   "source": [
    "# Clustering"
   ]
  },
  {
   "cell_type": "markdown",
   "metadata": {
    "id": "5sUAjKoIP6zY"
   },
   "source": [
    "El objetivo de esta tarea es identificar productos que se comporten de manera similar para poderlos agrupar. De esta manera, se podrá evaluar de forma eficiente las campañas que se lleven a cabo y contribuir a un forecasting más exacto. "
   ]
  },
  {
   "cell_type": "markdown",
   "metadata": {
    "id": "doAR8otERXsP"
   },
   "source": [
    "# 1. Librerías"
   ]
  },
  {
   "cell_type": "code",
   "execution_count": null,
   "metadata": {
    "executionInfo": {
     "elapsed": 1896,
     "status": "ok",
     "timestamp": 1711037749413,
     "user": {
      "displayName": "Ana Blanco",
      "userId": "14051927396520555328"
     },
     "user_tz": -60
    },
    "id": "19HA1gJGRZyM"
   },
   "outputs": [],
   "source": [
    "# silence warnings\n",
    "import warnings\n",
    "warnings.filterwarnings(\"ignore\")\n",
    "\n",
    "# time calculation to track some processes\n",
    "import time\n",
    "\n",
    "# numeric and matrix operations\n",
    "import numpy as np\n",
    "import pandas as pd\n",
    "\n",
    "# loading ploting libraries\n",
    "import matplotlib.pyplot as plt\n",
    "import seaborn as sns\n",
    "%matplotlib inline\n",
    "\n",
    "# python core library for machine learning and data science\n",
    "import sklearn\n",
    "from sklearn import set_config\n",
    "set_config(transform_output = \"pandas\")\n",
    "\n",
    "from sklearn.pipeline import Pipeline\n",
    "from sklearn.preprocessing import FunctionTransformer\n",
    "from sklearn.preprocessing import RobustScaler, MinMaxScaler\n",
    "from sklearn.impute import KNNImputer, SimpleImputer\n",
    "from sklearn.cluster import KMeans\n",
    "\n",
    "# data visualization\n",
    "import seaborn as sns\n",
    "import matplotlib.pyplot as plt\n"
   ]
  },
  {
   "cell_type": "markdown",
   "metadata": {
    "id": "Op_21vHRR8GG"
   },
   "source": [
    "# 2. Carga el dataset"
   ]
  },
  {
   "cell_type": "code",
   "execution_count": null,
   "metadata": {
    "executionInfo": {
     "elapsed": 25924,
     "status": "ok",
     "timestamp": 1711037800567,
     "user": {
      "displayName": "Ana Blanco",
      "userId": "14051927396520555328"
     },
     "user_tz": -60
    },
    "id": "jYhXh-8pSA-U"
   },
   "outputs": [],
   "source": [
    "RANDOM_STATE = 175\n",
    "\n",
    "df_union = pd.read_csv(\"gb_union_weeks.csv\")"
   ]
  },
  {
   "cell_type": "markdown",
   "metadata": {},
   "source": [
    "### Genera el dataset para realizar la clusterización"
   ]
  },
  {
   "cell_type": "code",
   "execution_count": null,
   "metadata": {},
   "outputs": [],
   "source": [
    "df = pd.DataFrame()"
   ]
  },
  {
   "cell_type": "code",
   "execution_count": null,
   "metadata": {},
   "outputs": [],
   "source": [
    "df[\"item\"] = df_union[\"item\"].unique()"
   ]
  },
  {
   "cell_type": "code",
   "execution_count": null,
   "metadata": {},
   "outputs": [],
   "source": [
    "df"
   ]
  },
  {
   "cell_type": "markdown",
   "metadata": {
    "id": "kkaH5blCTKJx"
   },
   "source": [
    "# 3. Preprocesamiento de los datos"
   ]
  },
  {
   "cell_type": "code",
   "execution_count": null,
   "metadata": {},
   "outputs": [],
   "source": [
    "df_union.info()"
   ]
  },
  {
   "cell_type": "markdown",
   "metadata": {
    "id": "06yRJosU5EQa"
   },
   "source": [
    "### Extraemos año y semana\n"
   ]
  },
  {
   "cell_type": "code",
   "execution_count": null,
   "metadata": {
    "executionInfo": {
     "elapsed": 7375,
     "status": "ok",
     "timestamp": 1711037808304,
     "user": {
      "displayName": "Ana Blanco",
      "userId": "14051927396520555328"
     },
     "user_tz": -60
    },
    "id": "mja8wqh2VSvi"
   },
   "outputs": [],
   "source": [
    "df_union[\"week\"] = df_union[\"year_week\"].astype(str).str[4:]"
   ]
  },
  {
   "cell_type": "code",
   "execution_count": null,
   "metadata": {
    "executionInfo": {
     "elapsed": 6367,
     "status": "ok",
     "timestamp": 1711037814669,
     "user": {
      "displayName": "Ana Blanco",
      "userId": "14051927396520555328"
     },
     "user_tz": -60
    },
    "id": "uRvmpAbPWk5A"
   },
   "outputs": [],
   "source": [
    "df_union[\"year\"] = df_union[\"year_week\"].astype(str).str[:4]"
   ]
  },
  {
   "cell_type": "code",
   "execution_count": null,
   "metadata": {
    "executionInfo": {
     "elapsed": 3,
     "status": "ok",
     "timestamp": 1711037814669,
     "user": {
      "displayName": "Ana Blanco",
      "userId": "14051927396520555328"
     },
     "user_tz": -60
    },
    "id": "MtVXGJQyW46d"
   },
   "outputs": [],
   "source": [
    "del(df_union[\"year_week\"])"
   ]
  },
  {
   "cell_type": "code",
   "execution_count": null,
   "metadata": {},
   "outputs": [],
   "source": [
    "# convertimos \"week\" en un número por separado\n",
    "df_union[\"week\"] = df_union[\"week\"].astype(float)"
   ]
  },
  {
   "cell_type": "code",
   "execution_count": null,
   "metadata": {},
   "outputs": [],
   "source": [
    "df_union[\"week\"] = df_union[\"week\"].astype(int)"
   ]
  },
  {
   "cell_type": "code",
   "execution_count": null,
   "metadata": {},
   "outputs": [],
   "source": [
    "df_union[\"year\"] = df_union[\"year\"].astype(str)"
   ]
  },
  {
   "cell_type": "markdown",
   "metadata": {
    "id": "z7EsX4t45Vwe"
   },
   "source": [
    "### Pasamos \"date\" a fecha y mes a número"
   ]
  },
  {
   "cell_type": "code",
   "execution_count": null,
   "metadata": {
    "executionInfo": {
     "elapsed": 1096,
     "status": "ok",
     "timestamp": 1711037815763,
     "user": {
      "displayName": "Ana Blanco",
      "userId": "14051927396520555328"
     },
     "user_tz": -60
    },
    "id": "d00kqQ7RXM7J"
   },
   "outputs": [],
   "source": [
    "df_union[\"date_d\"] = pd.to_datetime(df_union[\"date\"],format = '%Y-%m-%d')"
   ]
  },
  {
   "cell_type": "code",
   "execution_count": null,
   "metadata": {
    "executionInfo": {
     "elapsed": 8,
     "status": "ok",
     "timestamp": 1711037815763,
     "user": {
      "displayName": "Ana Blanco",
      "userId": "14051927396520555328"
     },
     "user_tz": -60
    },
    "id": "9iGr5Z6adYCJ"
   },
   "outputs": [],
   "source": [
    "del(df_union[\"date\"])"
   ]
  },
  {
   "cell_type": "code",
   "execution_count": null,
   "metadata": {},
   "outputs": [],
   "source": [
    "df_union[\"month\"] = df_union[\"date_d\"].dt.strftime('%m')"
   ]
  },
  {
   "cell_type": "code",
   "execution_count": null,
   "metadata": {},
   "outputs": [],
   "source": [
    "df_union[\"month\"] = df_union[\"month\"].astype(int)"
   ]
  },
  {
   "cell_type": "code",
   "execution_count": null,
   "metadata": {},
   "outputs": [],
   "source": [
    "df_union.info()"
   ]
  },
  {
   "cell_type": "markdown",
   "metadata": {
    "id": "i5Ae-Mi65fif"
   },
   "source": [
    "### Tratamos los nulos"
   ]
  },
  {
   "cell_type": "markdown",
   "metadata": {},
   "source": [
    "Sólo hay nulos \"sell_price\" debido a que las semanas que no hubo venta no hay un precio asignado. Se decide aplicar back y forward fill para completar con el precio que ese mismo producto tuvo anteriormente y, en su defecto, con el que tendrá en un futuro próximo. \n"
   ]
  },
  {
   "cell_type": "code",
   "execution_count": null,
   "metadata": {
    "executionInfo": {
     "elapsed": 3568,
     "status": "ok",
     "timestamp": 1711037831554,
     "user": {
      "displayName": "Ana Blanco",
      "userId": "14051927396520555328"
     },
     "user_tz": -60
    },
    "id": "pVn2Qh4Je0Sk"
   },
   "outputs": [],
   "source": [
    "df_union_ = df_union.copy() # realizamos una copia del dataset"
   ]
  },
  {
   "cell_type": "code",
   "execution_count": null,
   "metadata": {
    "executionInfo": {
     "elapsed": 13985,
     "status": "ok",
     "timestamp": 1711037845538,
     "user": {
      "displayName": "Ana Blanco",
      "userId": "14051927396520555328"
     },
     "user_tz": -60
    },
    "id": "ol3wHWlodpsb"
   },
   "outputs": [],
   "source": [
    "df_union_[\"sell_price_clean\"] = df_union_.groupby(\"id\", group_keys = False)[\"sell_price\"].apply(\n",
    "    lambda series: series.backfill().ffill()\n",
    ")"
   ]
  },
  {
   "cell_type": "code",
   "execution_count": null,
   "metadata": {},
   "outputs": [],
   "source": [
    "del(df_union_[\"sell_price\"])"
   ]
  },
  {
   "cell_type": "code",
   "execution_count": null,
   "metadata": {
    "colab": {
     "base_uri": "https://localhost:8080/"
    },
    "executionInfo": {
     "elapsed": 16780,
     "status": "ok",
     "timestamp": 1711037862315,
     "user": {
      "displayName": "Ana Blanco",
      "userId": "14051927396520555328"
     },
     "user_tz": -60
    },
    "id": "JR3bc93nfscx",
    "outputId": "df2c8e45-13b4-4365-91b5-68f5ae26cdb8"
   },
   "outputs": [],
   "source": [
    "# comprobamos que los nulos hayan sido corregidos:\n",
    "df_union_.isnull().sum()"
   ]
  },
  {
   "cell_type": "markdown",
   "metadata": {
    "id": "6JecZO1wTO8U"
   },
   "source": [
    "# 4. Feature engineering"
   ]
  },
  {
   "cell_type": "markdown",
   "metadata": {},
   "source": [
    "### Se calculan los ingresos semanales generados por producto "
   ]
  },
  {
   "cell_type": "code",
   "execution_count": null,
   "metadata": {
    "executionInfo": {
     "elapsed": 3,
     "status": "ok",
     "timestamp": 1711037888519,
     "user": {
      "displayName": "Ana Blanco",
      "userId": "14051927396520555328"
     },
     "user_tz": -60
    },
    "id": "NrIHMlko1-Pv"
   },
   "outputs": [],
   "source": [
    "df_union_[\"revenue_semanal\"]= df_union_[\"quantity\"]* df_union_[\"sell_price_clean\"]"
   ]
  },
  {
   "cell_type": "markdown",
   "metadata": {},
   "source": [
    "### Se calcula el precio medio de cada item teniendo en cuenta todo el histórico de información"
   ]
  },
  {
   "cell_type": "code",
   "execution_count": null,
   "metadata": {
    "executionInfo": {
     "elapsed": 474,
     "status": "ok",
     "timestamp": 1711037888991,
     "user": {
      "displayName": "Ana Blanco",
      "userId": "14051927396520555328"
     },
     "user_tz": -60
    },
    "id": "JAyMJVOMhDjA"
   },
   "outputs": [],
   "source": [
    "df_union_[\"precio_medio\"]= df_union_.groupby(\"item\")[\"sell_price_clean\"].transform(\"mean\") "
   ]
  },
  {
   "cell_type": "markdown",
   "metadata": {},
   "source": [
    "###  Unidades vendidas por item"
   ]
  },
  {
   "cell_type": "code",
   "execution_count": null,
   "metadata": {
    "id": "eyurmrx7iYqa"
   },
   "outputs": [],
   "source": [
    "# Unidades vendidas por producto en todas las tiendas y regiones, teniendo en cuenta todos los años \n",
    "\n",
    "df_union_[\"unidades_totales_item\"]= df_union_.groupby(\"item\")[\"quantity\"].transform(sum)\n",
    "\n",
    "# se creó esta función para calcular la performance, pero no resultó ser tan relevante para la clusterización\n",
    "#def agregacion (df,list_variables,variable_agg,que):\n",
    "#    cantidad_total = int(df[variable_agg].sum()) # 65600433\n",
    "#    df[f\"unidades_totales_por_{que}\"]= df.groupby(list_variables)[variable_agg].transform(sum)\n",
    "#    df[f\"performance_unidades_{que}%\"]= (df[f\"unidades_totales_por_{que}\"]/cantidad_total)*100\n",
    "#    return df"
   ]
  },
  {
   "cell_type": "code",
   "execution_count": null,
   "metadata": {},
   "outputs": [],
   "source": [
    "df_union_"
   ]
  },
  {
   "cell_type": "markdown",
   "metadata": {},
   "source": [
    "### Ingresos por item"
   ]
  },
  {
   "cell_type": "code",
   "execution_count": null,
   "metadata": {},
   "outputs": [],
   "source": [
    "# Ingresos generados por producto en todas las tiendas y regiones, teniendo en cuenta todos los años \n",
    "\n",
    "df_union_[\"ingreso_total_item\"]= df_union_.groupby(\"item\")[\"revenue_semanal\"].transform(sum)\n"
   ]
  },
  {
   "cell_type": "code",
   "execution_count": null,
   "metadata": {},
   "outputs": [],
   "source": [
    "df_union_"
   ]
  },
  {
   "cell_type": "markdown",
   "metadata": {},
   "source": [
    "### Ingresos por estación"
   ]
  },
  {
   "cell_type": "code",
   "execution_count": null,
   "metadata": {},
   "outputs": [],
   "source": [
    "#dividir estacionalmente los meses\n",
    "\n",
    "def get_season(month):\n",
    "    if month in [3, 4, 5]:\n",
    "        return \"Spring\"\n",
    "    elif month in [6, 7, 8]:\n",
    "        return \"Summer\"\n",
    "    elif month in [9, 10, 11]:\n",
    "        return \"Autumn\"\n",
    "    else:\n",
    "        return \"Winter\"\n",
    "\n",
    "df_union_['estacion'] = df_union_['month'].apply(get_season)"
   ]
  },
  {
   "cell_type": "code",
   "execution_count": null,
   "metadata": {},
   "outputs": [],
   "source": [
    "revenue_por_item_y_estacion = df_union_.groupby(['item', 'estacion'])['revenue_semanal'].sum()"
   ]
  },
  {
   "cell_type": "code",
   "execution_count": null,
   "metadata": {},
   "outputs": [],
   "source": [
    "revenue_por_item_y_estacion = revenue_por_item_y_estacion.to_frame()"
   ]
  },
  {
   "cell_type": "code",
   "execution_count": null,
   "metadata": {},
   "outputs": [],
   "source": [
    "pivot_revenue = revenue_por_item_y_estacion.pivot_table(index='item', columns='estacion', values= \"revenue_semanal\")"
   ]
  },
  {
   "cell_type": "code",
   "execution_count": null,
   "metadata": {},
   "outputs": [],
   "source": [
    "# unimos la pivot table a la tabla creada en un inicio para el clustering\n",
    "df_result = pd.merge(df, pivot_revenue, on=\"item\", how=\"left\") "
   ]
  },
  {
   "cell_type": "code",
   "execution_count": null,
   "metadata": {},
   "outputs": [],
   "source": [
    "df_result"
   ]
  },
  {
   "cell_type": "markdown",
   "metadata": {},
   "source": [
    "### Ingresos por región"
   ]
  },
  {
   "cell_type": "code",
   "execution_count": null,
   "metadata": {},
   "outputs": [],
   "source": [
    "revenue_por_item_y_region = df_union_.groupby(['item', 'region'])['revenue_semanal'].sum()"
   ]
  },
  {
   "cell_type": "code",
   "execution_count": null,
   "metadata": {},
   "outputs": [],
   "source": [
    "revenue_por_item_y_region = revenue_por_item_y_region.to_frame()"
   ]
  },
  {
   "cell_type": "code",
   "execution_count": null,
   "metadata": {},
   "outputs": [],
   "source": [
    "pivot_revenue = revenue_por_item_y_region.pivot_table(index='item', columns='region', values= \"revenue_semanal\")"
   ]
  },
  {
   "cell_type": "code",
   "execution_count": null,
   "metadata": {},
   "outputs": [],
   "source": [
    "df_result = pd.merge(df_result, pivot_revenue, on=\"item\", how=\"left\") # unimos"
   ]
  },
  {
   "cell_type": "code",
   "execution_count": null,
   "metadata": {},
   "outputs": [],
   "source": [
    "df_result"
   ]
  },
  {
   "cell_type": "markdown",
   "metadata": {},
   "source": [
    "### Ingresos por categoría"
   ]
  },
  {
   "cell_type": "code",
   "execution_count": null,
   "metadata": {},
   "outputs": [],
   "source": [
    "revenue_por_item_y_category = df_union_.groupby(['item', 'category'])['revenue_semanal'].sum()"
   ]
  },
  {
   "cell_type": "code",
   "execution_count": null,
   "metadata": {},
   "outputs": [],
   "source": [
    "revenue_por_item_y_category = revenue_por_item_y_category.to_frame()"
   ]
  },
  {
   "cell_type": "code",
   "execution_count": null,
   "metadata": {},
   "outputs": [],
   "source": [
    "pivot_revenue = revenue_por_item_y_category.pivot_table(index='item', columns='category', values= \"revenue_semanal\")"
   ]
  },
  {
   "cell_type": "code",
   "execution_count": null,
   "metadata": {},
   "outputs": [],
   "source": [
    "df_result = pd.merge(df_result, pivot_revenue, on=\"item\", how=\"left\") # unimos"
   ]
  },
  {
   "cell_type": "code",
   "execution_count": null,
   "metadata": {},
   "outputs": [],
   "source": [
    "df_result # da NaN y está bien porqué no todos los productos estan en todas las categorías"
   ]
  },
  {
   "cell_type": "markdown",
   "metadata": {},
   "source": [
    "Trataremos los nuloc con 0 porqué no han generado ingresos para esa categoría puesto que pertenecen a otra."
   ]
  },
  {
   "cell_type": "code",
   "execution_count": null,
   "metadata": {},
   "outputs": [],
   "source": [
    "df_result[\"ACCESORIES\"].fillna(0, inplace =True)"
   ]
  },
  {
   "cell_type": "code",
   "execution_count": null,
   "metadata": {},
   "outputs": [],
   "source": [
    "df_result[\"HOME_&_GARDEN\"].fillna(0, inplace =True)"
   ]
  },
  {
   "cell_type": "code",
   "execution_count": null,
   "metadata": {},
   "outputs": [],
   "source": [
    "df_result[\"SUPERMARKET\"].fillna(0, inplace =True)"
   ]
  },
  {
   "cell_type": "markdown",
   "metadata": {},
   "source": [
    "### Ingresos por tienda"
   ]
  },
  {
   "cell_type": "code",
   "execution_count": null,
   "metadata": {},
   "outputs": [],
   "source": [
    "revenue_por_item_y_store = df_union_.groupby(['item', 'store'])['revenue_semanal'].sum()"
   ]
  },
  {
   "cell_type": "code",
   "execution_count": null,
   "metadata": {},
   "outputs": [],
   "source": [
    "revenue_por_item_y_store = revenue_por_item_y_store.to_frame()"
   ]
  },
  {
   "cell_type": "code",
   "execution_count": null,
   "metadata": {},
   "outputs": [],
   "source": [
    "pivot_revenue = revenue_por_item_y_store.pivot_table(index='item', columns='store', values= \"revenue_semanal\")"
   ]
  },
  {
   "cell_type": "code",
   "execution_count": null,
   "metadata": {},
   "outputs": [],
   "source": [
    "df_result = pd.merge(df_result, pivot_revenue, on=\"item\", how=\"left\")"
   ]
  },
  {
   "cell_type": "code",
   "execution_count": null,
   "metadata": {},
   "outputs": [],
   "source": [
    "df_result"
   ]
  },
  {
   "cell_type": "markdown",
   "metadata": {},
   "source": [
    "### Ingresos anuales "
   ]
  },
  {
   "cell_type": "code",
   "execution_count": null,
   "metadata": {},
   "outputs": [],
   "source": [
    "revenue_por_item_y_store = df_union_.groupby(['item', 'year'])['revenue_semanal'].sum()"
   ]
  },
  {
   "cell_type": "code",
   "execution_count": null,
   "metadata": {},
   "outputs": [],
   "source": [
    "revenue_por_item_y_year = revenue_por_item_y_store.to_frame()"
   ]
  },
  {
   "cell_type": "code",
   "execution_count": null,
   "metadata": {},
   "outputs": [],
   "source": [
    "revenue_por_item_y_year"
   ]
  },
  {
   "cell_type": "code",
   "execution_count": null,
   "metadata": {},
   "outputs": [],
   "source": [
    "pivot_revenue = revenue_por_item_y_year.pivot_table(index='item', columns='year', values= \"revenue_semanal\")"
   ]
  },
  {
   "cell_type": "code",
   "execution_count": null,
   "metadata": {},
   "outputs": [],
   "source": [
    "pivot_revenue"
   ]
  },
  {
   "cell_type": "code",
   "execution_count": null,
   "metadata": {},
   "outputs": [],
   "source": [
    "df_result = pd.merge(df_result, pivot_revenue, on=\"item\", how=\"left\") # unimos"
   ]
  },
  {
   "cell_type": "code",
   "execution_count": null,
   "metadata": {},
   "outputs": [],
   "source": [
    "df_result"
   ]
  },
  {
   "cell_type": "markdown",
   "metadata": {},
   "source": [
    "# 5. Preparamos los datasets para el clustering"
   ]
  },
  {
   "cell_type": "markdown",
   "metadata": {},
   "source": [
    "### Reducimos la granularidad  df_union_  a item"
   ]
  },
  {
   "cell_type": "markdown",
   "metadata": {},
   "source": [
    "df_union_ es el dataset con la información por semanas preprocesado . "
   ]
  },
  {
   "cell_type": "code",
   "execution_count": null,
   "metadata": {
    "scrolled": true
   },
   "outputs": [],
   "source": [
    "df_union_.columns.to_list()"
   ]
  },
  {
   "cell_type": "code",
   "execution_count": null,
   "metadata": {},
   "outputs": [],
   "source": [
    "df_union_copy = df_union_.copy() # hacemos una copia del dataset"
   ]
  },
  {
   "cell_type": "markdown",
   "metadata": {},
   "source": [
    "Eliminamos todas las que no están agrupadas a nivel de item"
   ]
  },
  {
   "cell_type": "code",
   "execution_count": null,
   "metadata": {},
   "outputs": [],
   "source": [
    "COLUMNS_TO_DROP = ['id',\n",
    " 'quantity',\n",
    " 'category',\n",
    " 'department',\n",
    " 'store',\n",
    " 'store_code',\n",
    " 'region',\n",
    " 'week',\n",
    " 'year',\n",
    " 'date_d',\n",
    " 'month',\n",
    " 'sell_price_clean',\n",
    " 'revenue_semanal',\n",
    " 'precio_medio',\n",
    " 'estacion'\n",
    " ]\n",
    "\n",
    "df_union_copy.drop(COLUMNS_TO_DROP, inplace = True, axis = 1)"
   ]
  },
  {
   "cell_type": "code",
   "execution_count": null,
   "metadata": {},
   "outputs": [],
   "source": [
    "df_union_copy.drop_duplicates(inplace = True)"
   ]
  },
  {
   "cell_type": "code",
   "execution_count": null,
   "metadata": {},
   "outputs": [],
   "source": [
    "df_union_copy.shape # comprobamos que sea el mismo número de rows que de items"
   ]
  },
  {
   "cell_type": "code",
   "execution_count": null,
   "metadata": {},
   "outputs": [],
   "source": [
    "df_union_copy"
   ]
  },
  {
   "cell_type": "markdown",
   "metadata": {},
   "source": [
    "### Creamos un dataset con la variable categoría"
   ]
  },
  {
   "cell_type": "markdown",
   "metadata": {},
   "source": [
    "Creamos un nuevo dataset con el nombre de la categoría de cada producto. Este dataset lo utilizaremos después de hacer el clustering, pues el modelo no acepta variables categóricas"
   ]
  },
  {
   "cell_type": "code",
   "execution_count": null,
   "metadata": {},
   "outputs": [],
   "source": [
    "df_union_after =  df_union_copy.copy()"
   ]
  },
  {
   "cell_type": "code",
   "execution_count": null,
   "metadata": {},
   "outputs": [],
   "source": [
    "df_union_after[\"category_inletters\"]= df_union_after[\"item\"].astype(str).str[:11]\n",
    "\n",
    "dict_tocategory = {\n",
    "    'ACCESORIES_':\"ACCESSORIES\",\n",
    "    'HOME_&_GARD':\"HOME_&_GARDEN\",\n",
    "    'SUPERMARKET':\"SUPERMARKET\" \n",
    "}\n",
    "df_union_after[\"category_inletters\"] = df_union_after[\"category_inletters\"].map(dict_tocategory)"
   ]
  },
  {
   "cell_type": "code",
   "execution_count": null,
   "metadata": {},
   "outputs": [],
   "source": [
    "df_union_after"
   ]
  },
  {
   "cell_type": "markdown",
   "metadata": {},
   "source": [
    "Sólo queremos conservar la columna de categoría, pues la información numérica ya la tenemos en el dataset del clúster. Así que borramos las columnas que no necesitamos para evitar duplicidad de información"
   ]
  },
  {
   "cell_type": "code",
   "execution_count": null,
   "metadata": {},
   "outputs": [],
   "source": [
    "COLUMNS_TO_DROP = ['ingreso_total_item','unidades_totales_item'\n",
    " ]\n",
    "\n",
    "df_union_after.drop(COLUMNS_TO_DROP, inplace = True, axis = 1)"
   ]
  },
  {
   "cell_type": "code",
   "execution_count": null,
   "metadata": {},
   "outputs": [],
   "source": [
    "df_union_after"
   ]
  },
  {
   "cell_type": "code",
   "execution_count": null,
   "metadata": {},
   "outputs": [],
   "source": [
    "df_union_after.set_index('item', drop=True, inplace = True)"
   ]
  },
  {
   "cell_type": "markdown",
   "metadata": {},
   "source": [
    "### Hacemos el merge de los diferentes datasets para crear el dataset que utilizaremos para la clusterización"
   ]
  },
  {
   "cell_type": "code",
   "execution_count": null,
   "metadata": {},
   "outputs": [],
   "source": [
    "df_result = pd.merge(df_result, df_union_copy, on=\"item\", how=\"left\") # unimos"
   ]
  },
  {
   "cell_type": "code",
   "execution_count": null,
   "metadata": {},
   "outputs": [],
   "source": [
    "df_result.head(10)"
   ]
  },
  {
   "cell_type": "code",
   "execution_count": null,
   "metadata": {},
   "outputs": [],
   "source": [
    "df_result.set_index('item', drop=True, inplace = True)"
   ]
  },
  {
   "cell_type": "code",
   "execution_count": null,
   "metadata": {},
   "outputs": [],
   "source": [
    "df_result.shape"
   ]
  },
  {
   "cell_type": "markdown",
   "metadata": {},
   "source": [
    "### Creamos la variable precio item "
   ]
  },
  {
   "cell_type": "code",
   "execution_count": null,
   "metadata": {},
   "outputs": [],
   "source": [
    "df_result[\"precio_item\"]= df_result[\"ingreso_total_item\"]/df_result[\"unidades_totales_item\"]"
   ]
  },
  {
   "cell_type": "code",
   "execution_count": null,
   "metadata": {},
   "outputs": [],
   "source": [
    "df_result"
   ]
  },
  {
   "cell_type": "markdown",
   "metadata": {
    "id": "6jwDQ4rQTeCS"
   },
   "source": [
    "# 6. Clustering"
   ]
  },
  {
   "cell_type": "markdown",
   "metadata": {
    "id": "qJexxfCfikKp"
   },
   "source": [
    "### Elbow curve, para saber el número de clusters"
   ]
  },
  {
   "cell_type": "markdown",
   "metadata": {},
   "source": [
    "Revisamos que ninguna variable sea categorica pues el modelo no las sabe gestionar. "
   ]
  },
  {
   "cell_type": "code",
   "execution_count": null,
   "metadata": {
    "colab": {
     "base_uri": "https://localhost:8080/"
    },
    "executionInfo": {
     "elapsed": 3,
     "status": "ok",
     "timestamp": 1711037895216,
     "user": {
      "displayName": "Ana Blanco",
      "userId": "14051927396520555328"
     },
     "user_tz": -60
    },
    "id": "PCjUTeQi8cLR",
    "outputId": "fabb67bb-ee26-42c1-fc12-604e51d1a16f"
   },
   "outputs": [],
   "source": [
    "df_result.info() "
   ]
  },
  {
   "cell_type": "code",
   "execution_count": null,
   "metadata": {
    "executionInfo": {
     "elapsed": 2,
     "status": "ok",
     "timestamp": 1711037895216,
     "user": {
      "displayName": "Ana Blanco",
      "userId": "14051927396520555328"
     },
     "user_tz": -60
    },
    "id": "aGl-xSE7kTih"
   },
   "outputs": [],
   "source": [
    "pipe = Pipeline(steps = [\n",
    "    (\"RobustScaler\", RobustScaler(quantile_range = (0, 99.0)))\n",
    "\n",
    "])"
   ]
  },
  {
   "cell_type": "code",
   "execution_count": null,
   "metadata": {
    "executionInfo": {
     "elapsed": 11550,
     "status": "ok",
     "timestamp": 1711037906764,
     "user": {
      "displayName": "Ana Blanco",
      "userId": "14051927396520555328"
     },
     "user_tz": -60
    },
    "id": "niy7mMD_kWoj"
   },
   "outputs": [],
   "source": [
    "df_scaled_transformed = pipe.fit_transform(df_result)"
   ]
  },
  {
   "cell_type": "markdown",
   "metadata": {},
   "source": [
    "El SSE es una medida de la dispersión de los datos dentro de los clústeres. El resultado se almacena en el diccionario sse, con la clave \"k\" que indica el número de clústeres utilizados en el ajuste del modelo.\n",
    "La inercia es nuestra métrica a medir: distancia de cada cliente a su cliente más cercano y luego haces una media"
   ]
  },
  {
   "cell_type": "code",
   "execution_count": null,
   "metadata": {
    "colab": {
     "base_uri": "https://localhost:8080/"
    },
    "id": "NOlppFUWlfXf",
    "outputId": "3d96c28a-8d83-4fab-cdac-b3adc7f49bbc"
   },
   "outputs": [],
   "source": [
    "sse = {} # se almacenan los valores de SSE de los diferentes clusters\n",
    "\n",
    "for k in range(2, 20):\n",
    "    \n",
    "    print(f\"Fitting pipe with {k} clusters\")\n",
    "\n",
    "    clustering_model = KMeans(n_clusters = k)\n",
    "    clustering_model.fit(df_scaled_transformed)\n",
    "\n",
    "    sse[k] = clustering_model.inertia_\n",
    "    "
   ]
  },
  {
   "cell_type": "code",
   "execution_count": null,
   "metadata": {
    "id": "b2KfrXCHijLT"
   },
   "outputs": [],
   "source": [
    "fig = plt.figure(figsize = (16, 8))\n",
    "ax = fig.add_subplot()\n",
    "\n",
    "x_values = list(sse.keys())\n",
    "y_values = list(sse.values())\n",
    "\n",
    "ax.plot(x_values, y_values, label = \"Inertia/dispersión de los clústers\")\n",
    "fig.suptitle(\"Variación de la dispersión de los clústers en función de la k\", fontsize = 16);"
   ]
  },
  {
   "cell_type": "markdown",
   "metadata": {},
   "source": [
    "Como se puede apreciar los dos primeros codos que aparecen son entre el 3 y el 5. Así pues procedemos a elaborar nuestro clustering con 4 agrupaciones."
   ]
  },
  {
   "cell_type": "markdown",
   "metadata": {
    "id": "bZS6TwkFjssx"
   },
   "source": [
    "###   Segmentación de los productos con la \"k\" igual a 4"
   ]
  },
  {
   "cell_type": "code",
   "execution_count": null,
   "metadata": {
    "id": "L6mNwdp-jDb9"
   },
   "outputs": [],
   "source": [
    "pipe = Pipeline(steps = [ \n",
    "    (\"RobustScaler\", RobustScaler(quantile_range = (0, 99.0))),\n",
    "    (\"Clustering\", KMeans(n_clusters = 4, random_state = 175))\n",
    "])"
   ]
  },
  {
   "cell_type": "code",
   "execution_count": null,
   "metadata": {},
   "outputs": [],
   "source": [
    "df_result.shape # comprobamos que tenemos tantas filas como número de items 3049"
   ]
  },
  {
   "cell_type": "code",
   "execution_count": null,
   "metadata": {
    "id": "lA20IYorjFd5"
   },
   "outputs": [],
   "source": [
    "pipe.fit(df_result)# nuestro modelo aprende a clasificar los productos en sus respectivos clústers"
   ]
  },
  {
   "cell_type": "markdown",
   "metadata": {},
   "source": [
    "Creamos un nuevo dataset llamado X_processed, el qual es una copia de nuestro dataset df_result. Hacemos esta acción para poder guardar una versión de nuestros datos no escalados. "
   ]
  },
  {
   "cell_type": "code",
   "execution_count": null,
   "metadata": {},
   "outputs": [],
   "source": [
    "X_processed = df_result.copy() "
   ]
  },
  {
   "cell_type": "code",
   "execution_count": null,
   "metadata": {},
   "outputs": [],
   "source": [
    "labels = pipe.predict(df_result) # el modelo aprende, pero no le aplicamos el transform para poder trabajar con los valores sin escalar"
   ]
  },
  {
   "cell_type": "code",
   "execution_count": null,
   "metadata": {},
   "outputs": [],
   "source": [
    "labels # la predicción del cluster"
   ]
  },
  {
   "cell_type": "code",
   "execution_count": null,
   "metadata": {},
   "outputs": [],
   "source": [
    "X_processed[\"cluster\"] = labels # añadimos la columna de predicción a nuestro dataset"
   ]
  },
  {
   "cell_type": "code",
   "execution_count": null,
   "metadata": {},
   "outputs": [],
   "source": [
    "X_processed.head(3)"
   ]
  },
  {
   "cell_type": "markdown",
   "metadata": {},
   "source": [
    "Unimos la variable categórica creada anteriormente, en el dataset df_union_after, al dataset ya clusterizado, X_processed"
   ]
  },
  {
   "cell_type": "code",
   "execution_count": null,
   "metadata": {},
   "outputs": [],
   "source": [
    "X_processed = pd.merge(X_processed, df_union_after, on= \"item\", how=\"left\")"
   ]
  },
  {
   "cell_type": "code",
   "execution_count": null,
   "metadata": {},
   "outputs": [],
   "source": [
    "X_processed"
   ]
  },
  {
   "cell_type": "markdown",
   "metadata": {},
   "source": [
    "# 7. Interpretación de los Clusters "
   ]
  },
  {
   "cell_type": "code",
   "execution_count": null,
   "metadata": {},
   "outputs": [],
   "source": [
    "pd.set_option('display.max_rows', None)\n",
    "X_processed.groupby([\"cluster\"]).describe().T.style.background_gradient(cmap = 'Blues', axis = 1)"
   ]
  },
  {
   "cell_type": "markdown",
   "metadata": {},
   "source": [
    "Después de interpretar los clústers se les asigna un nombre descriptivo a cada uno en función de sus características"
   ]
  },
  {
   "cell_type": "code",
   "execution_count": null,
   "metadata": {},
   "outputs": [],
   "source": [
    "dict_clusters = {\n",
    "    0:\"Esporádicos\",\n",
    "    1:\"Emocional\",\n",
    "    2:\"Premium\",\n",
    "    3:\"Esencial\"\n",
    "}\n",
    "\n",
    "X_processed['cluster_name'] = X_processed['cluster'].map(dict_clusters)"
   ]
  },
  {
   "cell_type": "markdown",
   "metadata": {},
   "source": [
    "# 8. Creación de excel para PowerBI"
   ]
  },
  {
   "cell_type": "code",
   "execution_count": null,
   "metadata": {},
   "outputs": [],
   "source": [
    "#CSV con toda la información\n",
    "X_processed.to_excel('X_processed_4.2.xlsx', index=True)"
   ]
  },
  {
   "cell_type": "markdown",
   "metadata": {},
   "source": [
    "## Creación de dataframes adhoc para powerBI "
   ]
  },
  {
   "cell_type": "markdown",
   "metadata": {},
   "source": [
    "### Ingresos por año y cluster"
   ]
  },
  {
   "cell_type": "code",
   "execution_count": null,
   "metadata": {},
   "outputs": [],
   "source": [
    "X_processed_copy = X_processed.copy()"
   ]
  },
  {
   "cell_type": "markdown",
   "metadata": {},
   "source": [
    "Creamos un dataset con el nombre de item y clúster para incorporarlo en el dataset que contiene la información por semanas"
   ]
  },
  {
   "cell_type": "code",
   "execution_count": null,
   "metadata": {},
   "outputs": [],
   "source": [
    "X_processed_copy.columns.to_list()"
   ]
  },
  {
   "cell_type": "code",
   "execution_count": null,
   "metadata": {},
   "outputs": [],
   "source": [
    "COLUMNS_TO_DROP = ['Autumn',\n",
    " 'Spring',\n",
    " 'Summer',\n",
    " 'Winter',\n",
    " 'Boston',\n",
    " 'New York',\n",
    " 'Philadelphia',\n",
    " 'ACCESORIES',\n",
    " 'HOME_&_GARDEN',\n",
    " 'SUPERMARKET',\n",
    " 'Back_Bay',\n",
    " 'Brooklyn',\n",
    " 'Greenwich_Village',\n",
    " 'Harlem',\n",
    " 'Midtown_Village',\n",
    " 'Queen_Village',\n",
    " 'Roxbury',\n",
    " 'South_End',\n",
    " 'Tribeca',\n",
    " 'Yorktown',\n",
    " '2011',\n",
    " '2012',\n",
    " '2013',\n",
    " '2014',\n",
    " '2015',\n",
    " '2016',\n",
    " 'unidades_totales_item',\n",
    " 'ingreso_total_item',\n",
    " 'precio_item',\n",
    " 'category_inletters'\n",
    " ]\n",
    "\n",
    "X_processed_copy.drop(COLUMNS_TO_DROP, inplace = True, axis = 1)"
   ]
  },
  {
   "cell_type": "code",
   "execution_count": null,
   "metadata": {},
   "outputs": [],
   "source": [
    "X_processed_copy"
   ]
  },
  {
   "cell_type": "code",
   "execution_count": null,
   "metadata": {},
   "outputs": [],
   "source": [
    "df_union_.head(2)"
   ]
  },
  {
   "cell_type": "code",
   "execution_count": null,
   "metadata": {},
   "outputs": [],
   "source": [
    "df_union_clusters = pd.merge(df_union_,X_processed_copy,  on= \"item\", how=\"left\")"
   ]
  },
  {
   "cell_type": "markdown",
   "metadata": {},
   "source": [
    "df_union_ es el dataset con la información por semanas, preprocesado y con feature engineering. A este dataset le hacemos un merge con X_processed_copy, que tiene las etiquetas de cluster para cada item. "
   ]
  },
  {
   "cell_type": "code",
   "execution_count": null,
   "metadata": {},
   "outputs": [],
   "source": [
    "df_union_clusters[\"cluster\"].unique() # comprobamos que todos los clusters esten representados"
   ]
  },
  {
   "cell_type": "code",
   "execution_count": null,
   "metadata": {},
   "outputs": [],
   "source": [
    "# generamos un groupby con la información que queremos visualizar\n",
    "ingresos_año_cluster = df_union_clusters.groupby(['cluster_name','item', 'year'])['revenue_semanal'].sum()\n",
    "ingresos_año_cluster"
   ]
  },
  {
   "cell_type": "code",
   "execution_count": null,
   "metadata": {},
   "outputs": [],
   "source": [
    "#transformamos el groupby en un dataframe\n",
    "ingresos_año_cluster = ingresos_año_cluster.to_frame()"
   ]
  },
  {
   "cell_type": "code",
   "execution_count": null,
   "metadata": {},
   "outputs": [],
   "source": [
    "ingresos_año_cluster.reset_index(inplace=True)"
   ]
  },
  {
   "cell_type": "code",
   "execution_count": null,
   "metadata": {},
   "outputs": [],
   "source": [
    "ingresos_año_cluster.rename(columns={'revenue_semanal': 'revenue_anual'}, inplace=True)"
   ]
  },
  {
   "cell_type": "code",
   "execution_count": null,
   "metadata": {},
   "outputs": [],
   "source": [
    "ingresos_año_cluster.to_excel('df_ingresos_año_cluster.xlsx', index=True)"
   ]
  },
  {
   "cell_type": "markdown",
   "metadata": {},
   "source": [
    "### Dataset categoría"
   ]
  },
  {
   "cell_type": "code",
   "execution_count": null,
   "metadata": {},
   "outputs": [],
   "source": [
    "df_category = df_union_clusters.groupby(['cluster_name','item','category'])['revenue_semanal'].sum()"
   ]
  },
  {
   "cell_type": "code",
   "execution_count": null,
   "metadata": {},
   "outputs": [],
   "source": [
    "df_category= df_category.to_frame()"
   ]
  },
  {
   "cell_type": "code",
   "execution_count": null,
   "metadata": {},
   "outputs": [],
   "source": [
    "df_category.reset_index(inplace=True) # movemos los indices a columnas"
   ]
  },
  {
   "cell_type": "code",
   "execution_count": null,
   "metadata": {},
   "outputs": [],
   "source": [
    "df_category.rename(columns={'revenue_semanal': 'revenue_category'}, inplace=True)"
   ]
  },
  {
   "cell_type": "code",
   "execution_count": null,
   "metadata": {},
   "outputs": [],
   "source": [
    "df_category.head(3)"
   ]
  },
  {
   "cell_type": "code",
   "execution_count": null,
   "metadata": {},
   "outputs": [],
   "source": [
    "df_category.to_excel('df_category.xlsx', index=True)"
   ]
  },
  {
   "cell_type": "markdown",
   "metadata": {},
   "source": [
    "### Dataset región y tienda"
   ]
  },
  {
   "cell_type": "code",
   "execution_count": null,
   "metadata": {},
   "outputs": [],
   "source": [
    "df_region_store = df_region_store = df_union_clusters.groupby(['cluster_name','region','store'])['revenue_semanal'].sum()"
   ]
  },
  {
   "cell_type": "code",
   "execution_count": null,
   "metadata": {},
   "outputs": [],
   "source": [
    "df_region_store = df_region_store.to_frame()"
   ]
  },
  {
   "cell_type": "code",
   "execution_count": null,
   "metadata": {},
   "outputs": [],
   "source": [
    "df_region_store.reset_index(inplace=True) # movemos los indices a columnas"
   ]
  },
  {
   "cell_type": "code",
   "execution_count": null,
   "metadata": {},
   "outputs": [],
   "source": [
    "df_region_store.rename(columns={'revenue_semanal': 'revenue_location'}, inplace=True)"
   ]
  },
  {
   "cell_type": "code",
   "execution_count": null,
   "metadata": {},
   "outputs": [],
   "source": [
    "df_region_store.head(5)"
   ]
  },
  {
   "cell_type": "code",
   "execution_count": null,
   "metadata": {},
   "outputs": [],
   "source": [
    "df_region_store.to_excel('df_region_store.xlsx', index=True)"
   ]
  },
  {
   "cell_type": "markdown",
   "metadata": {},
   "source": [
    "### Dataset estación"
   ]
  },
  {
   "cell_type": "code",
   "execution_count": null,
   "metadata": {},
   "outputs": [],
   "source": [
    "df_estación = df_estación = df_union_clusters.groupby(['cluster_name','estacion',\"year\"])['revenue_semanal'].sum()\n",
    "df_estación = df_estación.to_frame()"
   ]
  },
  {
   "cell_type": "code",
   "execution_count": null,
   "metadata": {},
   "outputs": [],
   "source": [
    "\n",
    "df_estación.reset_index(inplace=True)\n",
    "df_estación.rename(columns={'revenue_semanal': 'revenue_estación'}, inplace=True)"
   ]
  },
  {
   "cell_type": "code",
   "execution_count": null,
   "metadata": {},
   "outputs": [],
   "source": [
    "df_estación.to_excel('df_estación.xlsx', index=True)"
   ]
  }
 ],
 "metadata": {
  "colab": {
   "authorship_tag": "ABX9TyOBxzuVrvBamqtTTPgfQNJL",
   "collapsed_sections": [
    "doAR8otERXsP"
   ],
   "provenance": []
  },
  "kernelspec": {
   "display_name": "Python 3 (ipykernel)",
   "language": "python",
   "name": "python3"
  },
  "language_info": {
   "codemirror_mode": {
    "name": "ipython",
    "version": 3
   },
   "file_extension": ".py",
   "mimetype": "text/x-python",
   "name": "python",
   "nbconvert_exporter": "python",
   "pygments_lexer": "ipython3",
   "version": "3.11.5"
  }
 },
 "nbformat": 4,
 "nbformat_minor": 1
}
